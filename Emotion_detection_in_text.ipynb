{
  "nbformat": 4,
  "nbformat_minor": 0,
  "metadata": {
    "colab": {
      "provenance": [],
      "authorship_tag": "ABX9TyNOVqK3BhjNY6rZmJYPO+R2",
      "include_colab_link": true
    },
    "kernelspec": {
      "name": "python3",
      "display_name": "Python 3"
    },
    "language_info": {
      "name": "python"
    }
  },
  "cells": [
    {
      "cell_type": "markdown",
      "metadata": {
        "id": "view-in-github",
        "colab_type": "text"
      },
      "source": [
        "<a href=\"https://colab.research.google.com/github/athulyas1206/emotion-classifier-in-text/blob/main/Emotion_detection_in_text.ipynb\" target=\"_parent\"><img src=\"https://colab.research.google.com/assets/colab-badge.svg\" alt=\"Open In Colab\"/></a>"
      ]
    },
    {
      "cell_type": "markdown",
      "source": [
        "# **Importing Dataset**"
      ],
      "metadata": {
        "id": "4MThSltXntKH"
      }
    },
    {
      "cell_type": "code",
      "source": [
        "import pandas as pd"
      ],
      "metadata": {
        "id": "SoktBWNMRUby"
      },
      "execution_count": null,
      "outputs": []
    },
    {
      "cell_type": "code",
      "source": [
        "train_df = pd.read_csv(\"/content/train.txt\", sep=\";\", header=None, names=[\"sentence\", \"emotion\"])\n",
        "test_df = pd.read_csv(\"/content/test.txt\", sep=\";\", header=None, names=[\"sentence\", \"emotion\"])\n",
        "val_df = pd.read_csv(\"/content/val.txt\", sep=\";\", header=None, names=[\"sentence\", \"emotion\"])"
      ],
      "metadata": {
        "id": "h59IR_Xam4Lz"
      },
      "execution_count": null,
      "outputs": []
    },
    {
      "cell_type": "markdown",
      "source": [
        "Concatenate the train and validation (val) set"
      ],
      "metadata": {
        "id": "m4Pa33rLn0y7"
      }
    },
    {
      "cell_type": "code",
      "source": [
        "train_df = pd.concat([train_df, val_df], ignore_index=True)"
      ],
      "metadata": {
        "id": "q0E4seOqm4JG"
      },
      "execution_count": null,
      "outputs": []
    },
    {
      "cell_type": "code",
      "source": [
        "#for printing the coount of each emotion\n",
        "count=train_df['emotion'].value_counts()\n",
        "print(count)"
      ],
      "metadata": {
        "id": "uCOcI8dVm_dF"
      },
      "execution_count": null,
      "outputs": []
    },
    {
      "cell_type": "code",
      "source": [
        "train_df.isnull().sum()"
      ],
      "metadata": {
        "id": "uAMyukeFm_Zr"
      },
      "execution_count": null,
      "outputs": []
    },
    {
      "cell_type": "code",
      "source": [
        "test_df.isnull().sum()"
      ],
      "metadata": {
        "id": "DoiY31v9m_W8"
      },
      "execution_count": null,
      "outputs": []
    },
    {
      "cell_type": "markdown",
      "source": [
        "# **Data Preprocessing**"
      ],
      "metadata": {
        "id": "2Wg55tEAn96b"
      }
    },
    {
      "cell_type": "code",
      "source": [
        "from nltk.corpus import stopwords\n",
        "from nltk.tokenize import word_tokenize\n",
        "from nltk.stem import WordNetLemmatizer"
      ],
      "metadata": {
        "id": "wXxMiysnm_UL"
      },
      "execution_count": null,
      "outputs": []
    },
    {
      "cell_type": "code",
      "source": [
        "import nltk\n",
        "nltk.download('all')"
      ],
      "metadata": {
        "id": "Qjz-tiBum_Rd"
      },
      "execution_count": null,
      "outputs": []
    },
    {
      "cell_type": "code",
      "source": [
        "def preprocess_text(text):\n",
        "  tokens = word_tokenize(text.lower())\n",
        "  filtered_tokens = [ token for token in tokens if token not in stopwords.words('english')]\n",
        "  lemmatizer = WordNetLemmatizer()\n",
        "  lemmatized_tokens = [lemmatizer.lemmatize(token) for token in filtered_tokens]\n",
        "  processed_text = ' '.join(lemmatized_tokens)\n",
        "  return processed_text"
      ],
      "metadata": {
        "id": "FHiRjEWHm_Op"
      },
      "execution_count": null,
      "outputs": []
    },
    {
      "cell_type": "code",
      "source": [
        "train_df['cleaned_sentence'] = train_df['sentence'].apply(preprocess_text)\n",
        "test_df['cleaned_sentence'] = test_df['sentence'].apply(preprocess_text)"
      ],
      "metadata": {
        "id": "XAAo4r2hm_L1"
      },
      "execution_count": null,
      "outputs": []
    },
    {
      "cell_type": "markdown",
      "source": [
        "# **Model Training**"
      ],
      "metadata": {
        "id": "oB5wM1EVoCcO"
      }
    },
    {
      "cell_type": "code",
      "source": [
        "from sklearn.pipeline import Pipeline\n",
        "from sklearn.feature_extraction.text import CountVectorizer, TfidfVectorizer\n",
        "from sklearn.svm import SVC\n",
        "from sklearn.linear_model import LogisticRegression\n",
        "from sklearn.naive_bayes import MultinomialNB"
      ],
      "metadata": {
        "id": "XYaoJOYlnNI-"
      },
      "execution_count": null,
      "outputs": []
    },
    {
      "cell_type": "code",
      "source": [
        "pipe_lr_model = Pipeline(steps=[('tv', TfidfVectorizer( norm = 'l2',ngram_range=(1,2))),\n",
        "    ('lr', LogisticRegression(class_weight='balanced', C=1, solver='lbfgs', random_state=42, max_iter=1000))])\n",
        "pipe_lr_model.fit(train_df['cleaned_sentence'], train_df['emotion'])"
      ],
      "metadata": {
        "id": "iYu5t2RanNGP"
      },
      "execution_count": null,
      "outputs": []
    },
    {
      "cell_type": "markdown",
      "source": [
        "# **Model Evaluation**"
      ],
      "metadata": {
        "id": "vF_HKQuloMHO"
      }
    },
    {
      "cell_type": "code",
      "source": [
        "lr_model_score = pipe_lr_model.score(test_df['cleaned_sentence'],test_df['emotion'])\n",
        "print('score of Logistic Regression model is ', lr_model_score)"
      ],
      "metadata": {
        "id": "9dzG2Aj5nNEX"
      },
      "execution_count": null,
      "outputs": []
    },
    {
      "cell_type": "markdown",
      "source": [
        "Confusion matrix"
      ],
      "metadata": {
        "id": "v2bH165WoGa0"
      }
    },
    {
      "cell_type": "code",
      "source": [
        "from sklearn.metrics import confusion_matrix,ConfusionMatrixDisplay\n",
        "import matplotlib.pyplot as plt"
      ],
      "metadata": {
        "id": "V8sBLEgonNBb"
      },
      "execution_count": null,
      "outputs": []
    },
    {
      "cell_type": "code",
      "source": [
        "y_preds = pipe_lr_model.predict(test_df['cleaned_sentence'])\n",
        "cm = confusion_matrix(test_df['emotion'], y_preds, labels=pipe_lr_model.classes_)\n",
        "disp = ConfusionMatrixDisplay(confusion_matrix=cm, display_labels=pipe_lr_model.classes_)\n",
        "disp.plot(cmap=plt.cm.Blues)\n",
        "plt.title(\"Confusion Matrix - Emotion Classifier\")\n",
        "plt.show()"
      ],
      "metadata": {
        "id": "g2Skoc49nM-u"
      },
      "execution_count": null,
      "outputs": []
    },
    {
      "cell_type": "markdown",
      "source": [
        "# **Sample Prediction**"
      ],
      "metadata": {
        "id": "3rUF-zVXoXW5"
      }
    },
    {
      "cell_type": "code",
      "source": [
        "s= ['i love this place']\n",
        "prediction = pipe_lr_model.predict(s)\n",
        "print(prediction[0])\n",
        "print(pipe_lr_model.predict([\"I miss my best friend\"]))\n",
        "print(pipe_lr_model.predict([\"I saw a dead body\"]))"
      ],
      "metadata": {
        "id": "vOIbjRHMneUI"
      },
      "execution_count": null,
      "outputs": []
    },
    {
      "cell_type": "markdown",
      "source": [
        "# **Saving the model**"
      ],
      "metadata": {
        "id": "R-Q_xnqVEMCM"
      }
    },
    {
      "cell_type": "code",
      "source": [
        "import joblib\n",
        "joblib.dump(pipe_lr_model, \"model.pkl\")"
      ],
      "metadata": {
        "id": "eKOkT_IuEKpz"
      },
      "execution_count": null,
      "outputs": []
    },
    {
      "cell_type": "markdown",
      "source": [
        "# **UI Using Gradio**"
      ],
      "metadata": {
        "id": "CSpgDcu_obWy"
      }
    },
    {
      "cell_type": "code",
      "source": [
        "import gradio as gr"
      ],
      "metadata": {
        "id": "Sr4Uhx4HneRF"
      },
      "execution_count": null,
      "outputs": []
    },
    {
      "cell_type": "code",
      "source": [
        "model = joblib.load(\"model.pkl\")\n",
        "def predict_emotion(text):\n",
        "  prediction = model.predict([text])[0]\n",
        "  return prediction\n",
        "\n",
        "interface = gr.Interface(\n",
        "    fn = predict_emotion,\n",
        "    inputs = gr.Textbox(lines=2, placeholder='enter the text...'),\n",
        "    outputs='text',\n",
        "    title='emotion classifier',\n",
        "\n",
        ")\n",
        "\n",
        "interface.launch()"
      ],
      "metadata": {
        "id": "o05pWUfjneOg"
      },
      "execution_count": null,
      "outputs": []
    }
  ]
}